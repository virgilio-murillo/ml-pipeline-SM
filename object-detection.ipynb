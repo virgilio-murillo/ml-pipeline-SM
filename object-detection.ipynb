{
 "cells": [
  {
   "cell_type": "code",
   "execution_count": 1,
   "id": "3af0228d-a4ce-4bba-ba4d-5e8a03cfcab0",
   "metadata": {},
   "outputs": [],
   "source": [
    "train_path = \"/home/ec2-user/user-default-efs/fiftyone/open-images-v7/train/data\"\n",
    "train_path = \"/home/ec2-user/user-default-efs/fiftyone/open-images-v7/validation/data\""
   ]
  },
  {
   "cell_type": "code",
   "execution_count": null,
   "id": "f18f1fe1-02c3-4dcf-baa2-eb9e9b3cd11d",
   "metadata": {},
   "outputs": [],
   "source": []
  }
 ],
 "metadata": {
  "kernelspec": {
   "display_name": "Python 3 (ipykernel)",
   "language": "python",
   "name": "python3"
  },
  "language_info": {
   "codemirror_mode": {
    "name": "ipython",
    "version": 3
   },
   "file_extension": ".py",
   "mimetype": "text/x-python",
   "name": "python",
   "nbconvert_exporter": "python",
   "pygments_lexer": "ipython3",
   "version": "3.11.11"
  }
 },
 "nbformat": 4,
 "nbformat_minor": 5
}
